{
 "cells": [
  {
   "cell_type": "code",
   "execution_count": 1,
   "metadata": {},
   "outputs": [
    {
     "name": "stderr",
     "output_type": "stream",
     "text": [
      "\n",
      "[notice] A new release of pip is available: 24.3.1 -> 25.0.1\n",
      "[notice] To update, run: python.exe -m pip install --upgrade pip\n",
      "ERROR: Invalid requirement: './tabpy-client': Expected package name at the start of dependency specifier\n",
      "    ./tabpy-client\n",
      "    ^\n"
     ]
    }
   ],
   "source": [
    "!pip install ./tabpy-client\n"
   ]
  },
  {
   "cell_type": "code",
   "execution_count": null,
   "metadata": {},
   "outputs": [],
   "source": [
    "#https://github.com/tdries/Tabpy/blob/master/client.md\n",
    "\n",
    "import tabpy_client\n",
    "\n",
    "client = tabpy_client.Client('http://localhost:9004/')\n"
   ]
  },
  {
   "cell_type": "code",
   "execution_count": null,
   "metadata": {},
   "outputs": [],
   "source": [
    "\n",
    "def add(x,y):\n",
    "    import numpy as np\n",
    "    return np.add(x, y).tolist()\n",
    "\n",
    "client.deploy('add', add, 'Adds two numbers x and y')\n"
   ]
  },
  {
   "cell_type": "code",
   "execution_count": null,
   "metadata": {},
   "outputs": [],
   "source": [
    "#redeploy\n",
    "client.deploy('add', add, 'Adds two numbers x and y', override=True)\n"
   ]
  },
  {
   "cell_type": "code",
   "execution_count": null,
   "metadata": {},
   "outputs": [],
   "source": [
    "\n",
    "from tabpy_client.schema import generate_schema\n",
    "\n",
    "schema = generate_schema(\n",
    "  input={'x': 3, 'y': 2},\n",
    "  output=5,\n",
    "  input_description={'x': 'first value',\n",
    "                     'y': 'second value'},\n",
    "  output_description='the sum of x and y')\n",
    "\n",
    "  client.deploy('add', add, 'Adds two numbers x and y', schema=schema)\n"
   ]
  }
 ],
 "metadata": {
  "kernelspec": {
   "display_name": "venv",
   "language": "python",
   "name": "python3"
  },
  "language_info": {
   "codemirror_mode": {
    "name": "ipython",
    "version": 3
   },
   "file_extension": ".py",
   "mimetype": "text/x-python",
   "name": "python",
   "nbconvert_exporter": "python",
   "pygments_lexer": "ipython3",
   "version": "3.13.1"
  }
 },
 "nbformat": 4,
 "nbformat_minor": 2
}
